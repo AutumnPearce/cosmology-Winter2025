{
 "cells": [
  {
   "cell_type": "markdown",
   "metadata": {},
   "source": [
    "# HW 4"
   ]
  },
  {
   "cell_type": "code",
   "execution_count": 20,
   "metadata": {},
   "outputs": [],
   "source": [
    "import numpy as np\n",
    "from matplotlib import pyplot as plt\n",
    "from scipy.integrate import odeint"
   ]
  },
  {
   "cell_type": "markdown",
   "metadata": {},
   "source": [
    "### Problem 1"
   ]
  },
  {
   "cell_type": "code",
   "execution_count": 75,
   "metadata": {},
   "outputs": [],
   "source": [
    "def dXedx(X_e, x):\n",
    "    alpha = 1/137\n",
    "    m_e = .511E+6\n",
    "    h = .7\n",
    "    H_0 = (4.558e32 / h)**-1\n",
    "    e_0 = 13.6\n",
    "    Omega_m = .3\n",
    "    eta_b = 6e-10\n",
    "    T_0 = 2.349e-4\n",
    "\n",
    "    n_b = eta_b * (2.404/(np.pi)**2) * (e_0/x)**3\n",
    "    sigmav = 9.78 * (alpha/m_e)**2 * x * np.log(x)\n",
    "    H_x1 = H_0 * np.sqrt(Omega_m * (e_0/T_0)**3)\n",
    "\n",
    "    return (sigmav/(H_x1)) * ((1-X_e)*(((m_e*e_0)/(2*np.pi*x))**(3/2))*np.exp(-1*x) - (X_e**2)*n_b)\n"
   ]
  },
  {
   "cell_type": "code",
   "execution_count": 76,
   "metadata": {},
   "outputs": [
    {
     "data": {
      "text/plain": [
       "0.000182166659416114"
      ]
     },
     "execution_count": 76,
     "metadata": {},
     "output_type": "execute_result"
    }
   ],
   "source": [
    "xs = np.linspace(1, 1000, 10001)\n",
    "odeint(dXedx, 1, xs)[-1][0]"
   ]
  },
  {
   "cell_type": "code",
   "execution_count": 82,
   "metadata": {},
   "outputs": [],
   "source": [
    "def dXedx_adjusted(X_e, x):\n",
    "    alpha = 1/137\n",
    "    m_e = .511E+6\n",
    "    h = .7\n",
    "    H_0 = (4.558e32 / h)**-1\n",
    "    e_0 = 13.6\n",
    "    Omega_m = .3\n",
    "    eta_b = 6e-10\n",
    "    T_0 = 2.349e-4\n",
    "    h_bar = 6.5821220e-16\n",
    "\n",
    "    n_b = eta_b * (2.404/(np.pi)**2) * (e_0/x)**3\n",
    "    sigmav = 9.78 * (alpha/m_e)**2 * x * np.log(x)\n",
    "    H_x1 = H_0 * np.sqrt(Omega_m * (e_0/T_0)**3)\n",
    "\n",
    "    H = H_0 * np.sqrt(Omega_m * (e_0/T_0)**3 * x**-3)\n",
    "    n_H = (2.404/np.pi**2) * eta_b * (e_0/x)**3 * (1-X_e)\n",
    "    beta_2 = (9.78 * (alpha/m_e)**2)*(x**(1/2))*np.log(x)*(((m_e*e_0/(2*np.pi*x))**(3/2)))*np.exp(-1*x/4)\n",
    "    lambda_alpha = h_bar * (H*(3*e_0)**3)/(((n_H)*((8*np.pi)**2))+1e-10)\n",
    "    lambda_2gamma = h_bar * 8.227\n",
    "    C = (lambda_alpha + lambda_2gamma)/(lambda_alpha+lambda_2gamma+beta_2)\n",
    "\n",
    "    return C * (sigmav/(H_x1)) * ((1-X_e)*(((m_e*e_0)/(2*np.pi*x))**(3/2))*np.exp(-1*x) - (X_e**2)*n_b)"
   ]
  },
  {
   "cell_type": "code",
   "execution_count": 83,
   "metadata": {},
   "outputs": [
    {
     "data": {
      "text/plain": [
       "0.00023120811115400516"
      ]
     },
     "execution_count": 83,
     "metadata": {},
     "output_type": "execute_result"
    }
   ],
   "source": [
    "xs = np.linspace(1, 1000, 10001)\n",
    "odeint(dXedx_adjusted, 1, xs)[-1][0]"
   ]
  },
  {
   "cell_type": "markdown",
   "metadata": {},
   "source": [
    "### Problem 3"
   ]
  },
  {
   "cell_type": "code",
   "execution_count": 2,
   "metadata": {},
   "outputs": [],
   "source": [
    "def c_s(a):\n",
    "    return np.sqrt(1/(3*(1 + .75*911*a)))\n",
    "\n",
    "def eta(a):\n",
    "    h = .7\n",
    "    H_0 = 100*h\n",
    "    Omega_m = .3\n",
    "    a_eq = 4.15e-5 / (Omega_m * h**2)\n",
    "    eta_weird_units = (2 / (H_0*np.sqrt(Omega_m))) * (np.sqrt(a + a_eq) - np.sqrt(a_eq))\n",
    "    eta = eta_weird_units * 3.1e19 * (3.14159e7)**-1\n",
    "    return eta"
   ]
  },
  {
   "cell_type": "code",
   "execution_count": 3,
   "metadata": {},
   "outputs": [
    {
     "data": {
      "text/plain": [
       "[<matplotlib.lines.Line2D at 0x126a9fe10>]"
      ]
     },
     "execution_count": 3,
     "metadata": {},
     "output_type": "execute_result"
    },
    {
     "data": {
      "image/png": "[encoded data removed]",
      "text/plain": [
       "<Figure size 640x480 with 1 Axes>"
      ]
     },
     "metadata": {},
     "output_type": "display_data"
    }
   ],
   "source": [
    "a_arr = np.linspace(0, 1, 1000000)\n",
    "\n",
    "c_s_arr = c_s(a_arr)\n",
    "eta_arr = eta(a_arr)\n",
    "\n",
    "plt.xscale(\"log\")\n",
    "plt.xlabel(\"$\\eta$ [yrs]\")\n",
    "plt.ylabel(\"$c_s$\")\n",
    "plt.plot(eta_arr, c_s_arr, color='darkred', linewidth=2)"
   ]
  },
  {
   "cell_type": "markdown",
   "metadata": {},
   "source": [
    "### Problem 4"
   ]
  },
  {
   "cell_type": "code",
   "execution_count": 4,
   "metadata": {},
   "outputs": [],
   "source": [
    "from scipy.integrate import quad"
   ]
  },
  {
   "cell_type": "code",
   "execution_count": 11,
   "metadata": {},
   "outputs": [
    {
     "data": {
      "text/plain": [
       "144.08639363442884"
      ]
     },
     "execution_count": 11,
     "metadata": {},
     "output_type": "execute_result"
    }
   ],
   "source": [
    "def get_a(eta):\n",
    "    h = .7\n",
    "    H_0 = 100*h\n",
    "    Omega_m = .3\n",
    "    a_eq = 4.15e-5 / (Omega_m * h**2)\n",
    "    eta = eta / (3.1e19 * (3.14159e7)**-1)\n",
    "\n",
    "    a = (H_0*np.sqrt(Omega_m)*eta/2 + np.sqrt(a_eq))**2 - a_eq\n",
    "\n",
    "    return a\n",
    "\n",
    "def f(eta):\n",
    "    a = get_a(eta)\n",
    "    return c_s(a) * 3.06392e-7 # speed of light in mpc/yr\n",
    "\n",
    "eta_star = 9.13e8\n",
    "r_s = quad(f, 0, eta_star)[0]\n",
    "r_s"
   ]
  },
  {
   "cell_type": "markdown",
   "metadata": {},
   "source": [
    "### Problem 5"
   ]
  },
  {
   "cell_type": "code",
   "execution_count": 19,
   "metadata": {},
   "outputs": [
    {
     "data": {
      "text/plain": [
       "2.497053944215946"
      ]
     },
     "execution_count": 19,
     "metadata": {},
     "output_type": "execute_result"
    }
   ],
   "source": [
    "def X(z, Omega_m=.3, Omega_lambda=.7, h=.7):\n",
    "    H_0 = 100*h # [km/s/kpc]\n",
    "    def f(z):\n",
    "        return H_0**(-1)*(Omega_m*(1+z)**3 + Omega_lambda)**(-1/2) * 3*10**5 # returns in Mpc\n",
    "    return quad(f, 0, z,)[0]\n",
    "\n",
    "theta = r_s / X(1)\n",
    "theta * 206265/3600"
   ]
  },
  {
   "cell_type": "code",
   "execution_count": null,
   "metadata": {},
   "outputs": [],
   "source": []
  }
 ],
 "metadata": {
  "kernelspec": {
   "display_name": "astro",
   "language": "python",
   "name": "python3"
  },
  "language_info": {
   "codemirror_mode": {
    "name": "ipython",
    "version": 3
   },
   "file_extension": ".py",
   "mimetype": "text/x-python",
   "name": "python",
   "nbconvert_exporter": "python",
   "pygments_lexer": "ipython3",
   "version": "3.11.11"
  }
 },
 "nbformat": 4,
 "nbformat_minor": 2
}
